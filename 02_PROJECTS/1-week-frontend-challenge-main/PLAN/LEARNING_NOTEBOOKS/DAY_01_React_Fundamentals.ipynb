{
 "cells": [
  {
   "cell_type": "markdown",
   "metadata": {},
   "source": [
    "# Gün 1: Laboratuvar Defteri - React'in Anatomisi\n",
    "**Stratejik Hedef:** React'in temel yapı taşı olan \"bileşen\" kavramını, sadece bir UI parçası olarak değil, aynı zamanda bir \"state makinesi\" ve \"render birimi\" olarak kavramak. Sanal DOM (Virtual DOM) ve render süreci arasındaki ilişkiyi anlamak."
   ]
  },
  {
   "cell_type": "markdown",
   "metadata": {},
   "source": [
    "## Konu 1: React Nedir ve Neden Var?\n",
    "**Neden?**\n",
    "Modern web uygulamaları çok karmaşıktır. Kullanıcı etkileşimleri, sunucudan gelen veriler, değişen arayüzler... Tüm bunları manuel olarak (örneğin sadece JavaScript ve jQuery ile) yönetmek, \"spagetti koda\" yol açar. Hangi kodun arayüzün hangi parçasını güncellediğini takip etmek imkansızlaşır.\n",
    "**Nasıl Çözer?**\n",
    "React, bu karmaşıklığı yönetmek için **bildirimsel (declarative)** ve **bileşen tabanlı (component-based)** bir yaklaşım sunar. \n",
    "- **Bildirimsel:** Sen React'e \"şu anki durumda arayüzün nasıl görünmesi gerektiğini\" söylersin. React, o görünüme ulaşmak için gerekli olan tüm DOM manipülasyonlarını arka planda kendisi halleder. Sen \"nasıl\" yapılacağıyla değil, \"ne\" olacağıyla ilgilenirsin.\n",
    "- **Bileşen Tabanlı:** Arayüzü, kendi içinde mantığı ve görünümü olan, yeniden kullanılabilir küçük parçalara (Lego parçaları gibi) ayırmanı sağlar. `Header`, `Button`, `UserProfileCard` gibi."
   ]
  },
  {
   "cell_type": "markdown",
   "metadata": {},
   "source": [
    "## Konu 2: Geliştirme Ortamı ve `create-react-app`\n",
    "**Neden?**\n",
    "React kodu, tarayıcıların doğrudan anlayacağı bir formatta değildir (örneğin JSX). Kodunun çalışması için bir dizi araca ihtiyaç vardır: Babel (JSX'i JavaScript'e çevirir), Webpack (tüm dosyalarını paketler), bir geliştirme sunucusu vb. Bu araçları tek tek kurmak çok zordur.\n",
    "**Nasıl Çözer?**\n",
    "`create-react-app` (CRA), bu tüm araç zincirini tek bir komutla senin için kuran bir pakettir. \n",
    "```bash\n",
    "npx create-react-app projemin-adi\n",
    "```\n",
    "**CRA ile Gelen Ana Dosya ve Klasörler:**\n",
    "| Klasör/Dosya | Neden Önemli? |\n",
    "| :--- | :--- |\n",
    "| `package.json` | Projenin kimliği. Gerekli kütüphaneleri (react, react-dom) ve komutları (`npm start`) içerir. |\n",
    "| `public/` | Statik dosyaların bulunduğu yer. `index.html` en önemlisidir. React uygulaman bu HTML dosyasındaki tek bir `<div>` (genellikle `<div id=\"root\">`) içine yerleşir. |\n",
    "| `src/` | **Senin Çalışma Alanın.** Tüm React bileşenlerin ve JavaScript kodların burada yaşar. `index.js` başlangıç noktasıdır. `App.js` ise genellikle ana bileşendir. |"
   ]
  },
  {
   "cell_type": "markdown",
   "metadata": {},
   "source": [
    "## Konu 3: JSX - JavaScript ve HTML'in Dansı\n",
    "**Neden?**\n",
    "React'te arayüz mantığını ve görünümünü bir arada tutmak esastır. JavaScript içinde HTML benzeri bir sözdizimi kullanmak, `React.createElement('div', {className: '...'}, 'Merhaba')` gibi uzun ve okunaksız kodlar yazmaktan çok daha kolaydır.\n",
    "**Nasıl Çalışır?**\n",
    "JSX, aslında JavaScript'in bir uzantısıdır. Yazdığın her JSX kodu, Babel tarafından arka planda `React.createElement()` fonksiyon çağrılarına dönüştürülür.\n",
    "**Temel Kurallar:**\n",
    "1.  **Tek Kök Eleman:** Her bileşen, tek bir kapsayıcı eleman döndürmelidir. Birden fazla eleman varsa, bunları bir `<div>` veya `<>` (Fragment) içine al.\n",
    "2.  **JavaScript İfadeleri `{}` İçinde:** Değişkenleri, fonksiyon çağrılarını veya herhangi bir JavaScript ifadesini göstermek için süslü parantez kullanırsın. `<h1>{kullanici.adi}</h1>`\n",
    "3.  **HTML Attribute'ları CamelCase Olur:** `class` yerine `className`, `for` yerine `htmlFor` kullanılır."
   ]
  },
  {
   "cell_type": "markdown",
   "metadata": {},
   "source": [
    "## Konu 4: Bileşenler (Components) ve Props\n",
    "**Neden?**\n",
    "Bileşenler, React'in ruhudur. Arayüzü mantıksal ve yeniden kullanılabilir parçalara bölmeni sağlar. `Props` (properties'in kısaltması) ise bu bileşenleri dinamik ve yapılandırılabilir hale getiren mekanizmadır.\n",
    "**Nasıl Çalışır? (Tek Yönlü Veri Akışı)**\n",
    "Veri, her zaman yukarıdan aşağıya, yani ebeveyn (parent) bileşenden çocuk (child) bileşene doğru akar. Bir arabanın motorunun (parent) tekerleklere (child) güç vermesi gibi. Tekerlekler motora doğrudan bir şey söyleyemez.\n",
    "Ebeveyn bileşen, veriyi `props` olarak çocuk bileşene geçer. Çocuk bileşen bu `props`'u bir obje olarak alır ve içindeki veriyi kullanır.\n",
    "```javascript\n",
    "// Ebeveyn: App.js\n",
    "function App() {\n",
    "  return <UserProfileCard kullaniciAdi={\"Dimo\"} />;\n",
    "}\n",
    "\n",
    "// Çocuk: UserProfileCard.js\n",
    "function UserProfileCard(props) {\n",
    "  // props objesi: { kullaniciAdi: \"Dimo\" }\n",
    "  return <h1>Merhaba, {props.kullaniciAdi}</h1>;\n",
    "}\n",
    "```\n",
    "**Alternatifler:**\n",
    "React'in ilk zamanlarında **Sınıf Bileşenleri (Class Components)** kullanılırdı. Ancak **Fonksiyonel Bileşenler (Functional Components)** ve **Hook'lar** (2. günde göreceğiz) artık modern React'in standardıdır. Çünkü daha basit, daha okunabilir ve daha az kod gerektirirler."
   ]
  },
  {
   "cell_type": "markdown",
   "metadata": {},
   "source": [
    "## 📚 Kaynaklar ve Sonraki Adımlar\n",
    "- **Resmi Dökümanlar (En İyi Dostun):**\n",
    "  - [React Ana Sayfa](https://react.dev/)\n",
    "  - [JSX ile Arayüz Yazma](https://react.dev/learn/writing-markup-with-jsx)\n",
    "  - [Bileşenler ve Props](https://react.dev/learn/your-first-component)\n",
    "- **Pratik:** Şimdi `PROJECT_FILES/DAY_01...` klasöründeki `README.md` dosyasını aç ve bugünün proje görevini yapmaya başla!"
   ]
  }
 ],
 "metadata": {
  "kernelspec": {
   "display_name": "JavaScript (Node.js)",
   "language": "javascript",
   "name": "javascript"
  },
  "language_info": {
   "name": "javascript",
   "version": "18.17.0"
  }
 },
 "nbformat": 4,
 "nbformat_minor": 2
}